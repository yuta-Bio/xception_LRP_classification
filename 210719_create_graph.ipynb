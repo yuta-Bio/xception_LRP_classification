{
    "cells": [
        {
            "cell_type": "code",
            "execution_count": null,
            "source": [
                "import pandas as pd"
            ],
            "outputs": [],
            "metadata": {}
        },
        {
            "cell_type": "code",
            "execution_count": null,
            "source": [
                "df = pd.read_csv(r\"C:\\Users\\PMB_MJU\\dl_result\\2107191724_timelapse_analyze\\lrp_time4.csv\", index_col=0)"
            ],
            "outputs": [],
            "metadata": {}
        },
        {
            "cell_type": "code",
            "execution_count": null,
            "source": [
                "df.head()"
            ],
            "outputs": [],
            "metadata": {}
        },
        {
            "cell_type": "code",
            "execution_count": null,
            "source": [
                "import seaborn as sns"
            ],
            "outputs": [],
            "metadata": {}
        },
        {
            "cell_type": "code",
            "execution_count": null,
            "source": [
                "from matplotlib import pyplot as plt\r\n",
                "fig, ax = plt.subplots(figsize = (10, 10))\r\n",
                "# plt.xlim(0, 1.)\r\n",
                "sns.barplot(data=df, x=\"stage\", y=\"time\", hue=\"treatment\")\r\n",
                "sns.despine()\r\n",
                "plt.show()\r\n",
                "plt.savefig(r\"C:\\Users\\PMB_MJU\\dl_result\\2107191724_timelapse_analyze\\eachstage.svg\")\r\n",
                "plt.savefig(r\"C:\\Users\\PMB_MJU\\dl_result\\2107191724_timelapse_analyze\\eachstage.png\")"
            ],
            "outputs": [],
            "metadata": {}
        },
        {
            "cell_type": "code",
            "execution_count": null,
            "source": [],
            "outputs": [],
            "metadata": {}
        }
    ],
    "metadata": {
        "orig_nbformat": 4,
        "language_info": {
            "name": "python"
        }
    },
    "nbformat": 4,
    "nbformat_minor": 2
}